{
 "cells": [
  {
   "cell_type": "code",
   "execution_count": 2,
   "id": "75a886ac-6154-4584-843a-c0ca05247d6e",
   "metadata": {},
   "outputs": [],
   "source": [
    "from glob import glob\n",
    "import numpy as np\n",
    "import pandas as pd\n",
    "\n",
    "import matplotlib.pyplot as plt\n",
    "from pylab import *\n",
    "from scipy.stats import ttest_ind\n",
    "from scipy.stats import mannwhitneyu,ranksums\n",
    "\n",
    "from matplotlib import pyplot\n",
    "import seaborn as sns\n",
    "import os   \n",
    "import matplotlib as mpl\n",
    "\n",
    "import matplotlib.font_manager as font_manager\n",
    "font_dir = ['/home/luosongwen/scantecc/ttf/']\n",
    "for font in font_manager.findSystemFonts(font_dir):\n",
    "    font_manager.fontManager.addfont(font)\n",
    "mpl.rcParams['pdf.fonttype'] = 42\n",
    "mpl.rcParams[\"font.sans-serif\"] = \"Arial\"\n",
    "from statannotations.Annotator import Annotator\n",
    "from matplotlib import gridspec,cm\n",
    "from scipy import stats as ss\n",
    "import multiprocessing as mp"
   ]
  },
  {
   "cell_type": "markdown",
   "id": "bcbc3ebf-60dd-456a-ad19-1d11d3f1a4c3",
   "metadata": {},
   "source": [
    "### Figure2A Normalized counts of large-size cell-free eccDNA (length >1 kb) detected in healthy individuals and patients across multiple cancer types."
   ]
  },
  {
   "cell_type": "code",
   "execution_count": 3,
   "id": "0d20db5f-ad53-4f49-8266-c144aae40d2f",
   "metadata": {},
   "outputs": [],
   "source": [
    "S4a = pd.read_table(\"/home/luosongwen/scantecc/s4a_new.txt\", index_col=0)\n",
    "\n",
    "# 创建映射字典，将中文类别映射为对应的英文\n",
    "mapping = {\n",
    "    \"正常对照\": \"Health\",\n",
    "    \"肺癌\": \"Lung\",\n",
    "    \"卵巢癌\": \"Ovarian\",\n",
    "    \"胃癌\": \"Gastric\",\n",
    "    \"淋巴瘤\": \"Lymphoma\",\n",
    "    \"结直肠癌\": \"Colorectal\",\n",
    "    \"乳腺癌\": \"Breast\",\n",
    "    \"other\": \"Others\"\n",
    "}\n",
    "# 使用 replace 函数进行替换\n",
    "S4a['ctype'] = S4a['ctype'].replace(mapping)\n",
    "\n",
    "# 定义目标顺序\n",
    "order = [\"Health\", \"Lung\", \"Ovarian\", \"Gastric\", \"Lymphoma\", \"Colorectal\", \"Breast\", \"Others\"]\n",
    "\n",
    "# 将 ctype 列转化为分类类型，并按照 order 排序\n",
    "S4a['ctype'] = pd.Categorical(S4a['ctype'], categories=order, ordered=True)\n",
    "\n",
    "# 按照新的顺序排序 S4a 数据框\n",
    "S4a_sorted = S4a.sort_values('ctype')"
   ]
  },
  {
   "cell_type": "code",
   "execution_count": 4,
   "id": "0239ea23-1fb8-4d49-8e7d-b28c6bb3d3b4",
   "metadata": {},
   "outputs": [
    {
     "data": {
      "text/html": [
       "<div>\n",
       "<style scoped>\n",
       "    .dataframe tbody tr th:only-of-type {\n",
       "        vertical-align: middle;\n",
       "    }\n",
       "\n",
       "    .dataframe tbody tr th {\n",
       "        vertical-align: top;\n",
       "    }\n",
       "\n",
       "    .dataframe thead th {\n",
       "        text-align: right;\n",
       "    }\n",
       "</style>\n",
       "<table border=\"1\" class=\"dataframe\">\n",
       "  <thead>\n",
       "    <tr style=\"text-align: right;\">\n",
       "      <th></th>\n",
       "      <th>final_epm</th>\n",
       "      <th>ctype</th>\n",
       "      <th>label</th>\n",
       "      <th>final_epm_without_hc</th>\n",
       "      <th>state</th>\n",
       "    </tr>\n",
       "    <tr>\n",
       "      <th>送测编号</th>\n",
       "      <th></th>\n",
       "      <th></th>\n",
       "      <th></th>\n",
       "      <th></th>\n",
       "      <th></th>\n",
       "    </tr>\n",
       "  </thead>\n",
       "  <tbody>\n",
       "    <tr>\n",
       "      <th>SE-169</th>\n",
       "      <td>5.366242</td>\n",
       "      <td>Health</td>\n",
       "      <td>Normal</td>\n",
       "      <td>5.543510</td>\n",
       "      <td>NaN</td>\n",
       "    </tr>\n",
       "    <tr>\n",
       "      <th>SE-37</th>\n",
       "      <td>6.345796</td>\n",
       "      <td>Health</td>\n",
       "      <td>Normal</td>\n",
       "      <td>6.442067</td>\n",
       "      <td>NaN</td>\n",
       "    </tr>\n",
       "    <tr>\n",
       "      <th>SE-23</th>\n",
       "      <td>4.992009</td>\n",
       "      <td>Health</td>\n",
       "      <td>Normal</td>\n",
       "      <td>5.169198</td>\n",
       "      <td>NaN</td>\n",
       "    </tr>\n",
       "    <tr>\n",
       "      <th>SE-179</th>\n",
       "      <td>5.343086</td>\n",
       "      <td>Health</td>\n",
       "      <td>Normal</td>\n",
       "      <td>5.534572</td>\n",
       "      <td>NaN</td>\n",
       "    </tr>\n",
       "    <tr>\n",
       "      <th>SE-186</th>\n",
       "      <td>5.020666</td>\n",
       "      <td>Health</td>\n",
       "      <td>Normal</td>\n",
       "      <td>5.210268</td>\n",
       "      <td>NaN</td>\n",
       "    </tr>\n",
       "    <tr>\n",
       "      <th>...</th>\n",
       "      <td>...</td>\n",
       "      <td>...</td>\n",
       "      <td>...</td>\n",
       "      <td>...</td>\n",
       "      <td>...</td>\n",
       "    </tr>\n",
       "    <tr>\n",
       "      <th>HG605</th>\n",
       "      <td>12.112514</td>\n",
       "      <td>Others</td>\n",
       "      <td>Disease</td>\n",
       "      <td>13.935468</td>\n",
       "      <td>4</td>\n",
       "    </tr>\n",
       "    <tr>\n",
       "      <th>HG454</th>\n",
       "      <td>5.238286</td>\n",
       "      <td>Others</td>\n",
       "      <td>Disease</td>\n",
       "      <td>6.062286</td>\n",
       "      <td>4</td>\n",
       "    </tr>\n",
       "    <tr>\n",
       "      <th>HG53</th>\n",
       "      <td>9.275205</td>\n",
       "      <td>Others</td>\n",
       "      <td>Disease</td>\n",
       "      <td>10.361490</td>\n",
       "      <td>1</td>\n",
       "    </tr>\n",
       "    <tr>\n",
       "      <th>HG465</th>\n",
       "      <td>16.029729</td>\n",
       "      <td>Others</td>\n",
       "      <td>Disease</td>\n",
       "      <td>18.407344</td>\n",
       "      <td>4</td>\n",
       "    </tr>\n",
       "    <tr>\n",
       "      <th>HG322</th>\n",
       "      <td>15.168383</td>\n",
       "      <td>Others</td>\n",
       "      <td>Disease</td>\n",
       "      <td>16.777151</td>\n",
       "      <td>1</td>\n",
       "    </tr>\n",
       "  </tbody>\n",
       "</table>\n",
       "<p>652 rows × 5 columns</p>\n",
       "</div>"
      ],
      "text/plain": [
       "        final_epm   ctype    label  final_epm_without_hc state\n",
       "送测编号                                                          \n",
       "SE-169   5.366242  Health   Normal              5.543510   NaN\n",
       "SE-37    6.345796  Health   Normal              6.442067   NaN\n",
       "SE-23    4.992009  Health   Normal              5.169198   NaN\n",
       "SE-179   5.343086  Health   Normal              5.534572   NaN\n",
       "SE-186   5.020666  Health   Normal              5.210268   NaN\n",
       "...           ...     ...      ...                   ...   ...\n",
       "HG605   12.112514  Others  Disease             13.935468     4\n",
       "HG454    5.238286  Others  Disease              6.062286     4\n",
       "HG53     9.275205  Others  Disease             10.361490     1\n",
       "HG465   16.029729  Others  Disease             18.407344     4\n",
       "HG322   15.168383  Others  Disease             16.777151     1\n",
       "\n",
       "[652 rows x 5 columns]"
      ]
     },
     "execution_count": 4,
     "metadata": {},
     "output_type": "execute_result"
    }
   ],
   "source": [
    "S4a_sorted"
   ]
  },
  {
   "cell_type": "code",
   "execution_count": 5,
   "id": "6aa3d99f-ee64-4766-936d-6e18a84d0fe5",
   "metadata": {},
   "outputs": [
    {
     "name": "stderr",
     "output_type": "stream",
     "text": [
      "/tmp/ipykernel_48836/499254321.py:5: FutureWarning: \n",
      "\n",
      "Passing `palette` without assigning `hue` is deprecated and will be removed in v0.14.0. Assign the `x` variable to `hue` and set `legend=False` for the same effect.\n",
      "\n",
      "  sns.barplot(\n",
      "/tmp/ipykernel_48836/499254321.py:5: FutureWarning: \n",
      "\n",
      "The `errwidth` parameter is deprecated. And will be removed in v0.15.0. Pass `err_kws={'linewidth': 1}` instead.\n",
      "\n",
      "  sns.barplot(\n"
     ]
    },
    {
     "name": "stdout",
     "output_type": "stream",
     "text": [
      "p-value annotation legend:\n",
      "      ns: 5.00e-02 < p <= 1.00e+00\n",
      "       *: 1.00e-02 < p <= 5.00e-02\n",
      "      **: 1.00e-03 < p <= 1.00e-02\n",
      "     ***: 1.00e-04 < p <= 1.00e-03\n",
      "    ****: p <= 1.00e-04\n",
      "\n",
      "Health vs. Lung: t-test independent samples, P_val:4.171e-20 t=-9.661e+00\n",
      "Health vs. Ovarian: t-test independent samples, P_val:7.101e-15 t=-8.191e+00\n",
      "Health vs. Gastric: t-test independent samples, P_val:5.660e-15 t=-8.260e+00\n",
      "Health vs. Lymphoma: t-test independent samples, P_val:3.381e-22 t=-1.057e+01\n",
      "Health vs. Colorectal: t-test independent samples, P_val:4.830e-26 t=-1.184e+01\n",
      "Health vs. Breast: t-test independent samples, P_val:1.060e-22 t=-1.086e+01\n",
      "Health vs. Others: t-test independent samples, P_val:1.556e-11 t=-7.039e+00\n"
     ]
    },
    {
     "data": {
      "image/png": "[encoded data removed]",
      "text/plain": [
       "<Figure size 500x300 with 1 Axes>"
      ]
     },
     "metadata": {},
     "output_type": "display_data"
    }
   ],
   "source": [
    "# 创建画布和坐标轴\n",
    "fig, ax = plt.subplots(1, 1, figsize=(5, 3))\n",
    "\n",
    "# 使用 barplot 替代 boxplot，添加误差线为标准误差（sem）\n",
    "sns.barplot(\n",
    "    data=S4a_sorted,\n",
    "    x='ctype', y='final_epm_without_hc',\n",
    "    errorbar='se',  # 设置误差线为标准误差\n",
    "    ax=ax,\n",
    "    capsize=0.2,\n",
    "    errwidth=1, width=0.4,\n",
    "    palette=['#b71c1c', '#880e4f', '#4a148c', '#311b92', '#1a237e', '#0d47a1', '#01579b', '#006064']\n",
    ")\n",
    "\n",
    "# 叠加散点图\n",
    "#sns.stripplot(\n",
    "    #data=filtered_eccDNA_count_df,\n",
    "    #x='ctype', y='epm', ax=ax,\n",
    "    #marker='o', color='k', size=4, alpha=0.8,\n",
    "    #palette=['#661212', '#4c092f', '#260c4c', '#160f4c', '#0d133f', '#07234c', '#012e4c', '#003333']\n",
    "#)\n",
    "\n",
    "# 添加显著性标记\n",
    "box_pairs = [\n",
    "    (\"Health\", \"Lung\"),\n",
    "    (\"Health\", \"Ovarian\"),\n",
    "    (\"Health\", \"Gastric\"),\n",
    "    (\"Health\", \"Lymphoma\"),\n",
    "    (\"Health\", \"Colorectal\"),\n",
    "    (\"Health\", \"Breast\"),\n",
    "    (\"Health\", \"Others\"),\n",
    "]\n",
    "\n",
    "annot = Annotator(ax, box_pairs, data=S4a_sorted, x=\"ctype\", y=\"final_epm_without_hc\")\n",
    "annot.configure(test='t-test_ind', text_format='star', loc='outside')\n",
    "annot.apply_and_annotate()\n",
    "\n",
    "# 设置标签\n",
    "plt.xlabel(\"\")\n",
    "plt.ylabel(\"eccDNA number per million\", fontsize=12)\n",
    "plt.xticks(rotation=30)\n",
    "plt.ylim(0,105)\n",
    "#plt.savefig('/home/luosongwen/scantecc/2025_03_10_Figure_result/candidate_figure/Figure2a_barplot_without_stripplot.pdf', bbox_inches='tight')\n",
    "\n",
    "# 显示图形\n",
    "plt.show()"
   ]
  },
  {
   "cell_type": "markdown",
   "id": "7e2bed2f-963a-477f-834e-cceea152c7d2",
   "metadata": {},
   "source": [
    "### Fig2B Enrichment of known cancer-associated driver genes in specific cancer types based on large-size cell-free eccDNA"
   ]
  },
  {
   "cell_type": "code",
   "execution_count": 3,
   "id": "0841c968-54cd-44a3-abd0-675b72b21b40",
   "metadata": {},
   "outputs": [],
   "source": [
    "data = pd.read_table(\"/home/luosongwen/scantecc/Fold-Change.txt\",index_col = 0)\n",
    "data[\"Condition\"] = data.index\n",
    "data = data.drop(columns=[\"0\"])"
   ]
  },
  {
   "cell_type": "code",
   "execution_count": 9,
   "id": "d0711461-d2b8-45a5-94a8-75992f36e312",
   "metadata": {},
   "outputs": [],
   "source": [
    "# 为列指定名称\n",
    "data.columns = ['Fold_Change_1', 'Fold_Change_2', 'Fold_Change_3', 'Fold_Change_4', 'Fold_Change_5', 'Fold_Change_6', 'Condition']\n",
    "\n",
    "# 将数据转换为长格式，方便绘图\n",
    "data_long = pd.melt(data, id_vars=[\"Condition\"], value_vars=[\"Fold_Change_1\", \"Fold_Change_2\", \"Fold_Change_3\", \"Fold_Change_4\", \"Fold_Change_5\", \"Fold_Change_6\"],\n",
    "                    var_name=\"Measurement\", value_name=\"Fold_Change\")"
   ]
  },
  {
   "cell_type": "code",
   "execution_count": 10,
   "id": "51d0140a-2c9a-488b-ba37-3ef24bff14cd",
   "metadata": {},
   "outputs": [
    {
     "name": "stderr",
     "output_type": "stream",
     "text": [
      "/tmp/ipykernel_48836/3635863975.py:3: FutureWarning: \n",
      "\n",
      "The `errwidth` parameter is deprecated. And will be removed in v0.15.0. Pass `err_kws={'linewidth': 1.5}` instead.\n",
      "\n",
      "  ax = sns.barplot(\n"
     ]
    },
    {
     "name": "stdout",
     "output_type": "stream",
     "text": [
      "p-value annotation legend:\n",
      "      ns: 5.00e-02 < p <= 1.00e+00\n",
      "       *: 1.00e-02 < p <= 5.00e-02\n",
      "      **: 1.00e-03 < p <= 1.00e-02\n",
      "     ***: 1.00e-04 < p <= 1.00e-03\n",
      "    ****: p <= 1.00e-04\n",
      "\n",
      "non_sizeup vs. sizeup: t-test independent samples, P_val:4.399e-04 t=-5.137e+00\n"
     ]
    },
    {
     "data": {
      "image/png": "[encoded data removed]",
      "text/plain": [
       "<Figure size 600x400 with 1 Axes>"
      ]
     },
     "metadata": {},
     "output_type": "display_data"
    }
   ],
   "source": [
    "# 创建柱状图（替换箱线图）\n",
    "plt.figure(figsize=(6, 4))\n",
    "ax = sns.barplot(\n",
    "    data=data_long, x='Condition', y='Fold_Change',\n",
    "    width=0.3,             # 设置柱子的宽度\n",
    "    edgecolor='black',     # 设置边框颜色\n",
    "    linewidth=1.5,         # 设置边框线宽\n",
    "    capsize=0.2,           # 设置误差线帽宽度\n",
    "    errwidth=1.5,          # 设置误差线宽度\n",
    "    color='white'          # 填充为白色，与原来boxplot白色一致\n",
    ")\n",
    "\n",
    "# 添加显著性标记，假设进行两组条件的比较\n",
    "pairs = [(\"non_sizeup\", \"sizeup\")]\n",
    "\n",
    "# 创建 Annotator 对象，进行显著性标记\n",
    "annotator = Annotator(ax, pairs, data=data_long, x='Condition', y='Fold_Change')\n",
    "annotator.configure(test='t-test_ind', text_format='star', loc='outside', verbose=2)\n",
    "annotator.apply_and_annotate()\n",
    "\n",
    "# 添加标题和标签\n",
    "plt.ylabel('Fold change', fontsize=12)\n",
    "plt.xlabel('', fontsize=12)\n",
    "\n",
    "# 设置图形显示样式\n",
    "plt.tight_layout()\n",
    "\n",
    "# 显示图形\n",
    "# plt.savefig(\"/home/luosongwen/scantecc/supplementary_figure/Sfig4B.pdf\")\n",
    "plt.show()"
   ]
  },
  {
   "cell_type": "code",
   "execution_count": 11,
   "id": "79a1a0d7-6557-4a59-9e16-552a10e0b8c4",
   "metadata": {},
   "outputs": [
    {
     "name": "stderr",
     "output_type": "stream",
     "text": [
      "/tmp/ipykernel_48836/2375248184.py:5: FutureWarning: \n",
      "\n",
      "Passing `palette` without assigning `hue` is deprecated and will be removed in v0.14.0. Assign the `x` variable to `hue` and set `legend=False` for the same effect.\n",
      "\n",
      "  sns.barplot(\n",
      "/tmp/ipykernel_48836/2375248184.py:5: FutureWarning: \n",
      "\n",
      "The `errwidth` parameter is deprecated. And will be removed in v0.15.0. Pass `err_kws={'linewidth': 1}` instead.\n",
      "\n",
      "  sns.barplot(\n"
     ]
    },
    {
     "name": "stdout",
     "output_type": "stream",
     "text": [
      "p-value annotation legend:\n",
      "      ns: 5.00e-02 < p <= 1.00e+00\n",
      "       *: 1.00e-02 < p <= 5.00e-02\n",
      "      **: 1.00e-03 < p <= 1.00e-02\n",
      "     ***: 1.00e-04 < p <= 1.00e-03\n",
      "    ****: p <= 1.00e-04\n",
      "\n",
      "non_sizeup vs. sizeup: t-test independent samples, P_val:4.399e-04 t=-5.137e+00\n"
     ]
    },
    {
     "data": {
      "image/png": "[encoded data removed]",
      "text/plain": [
       "<Figure size 500x300 with 1 Axes>"
      ]
     },
     "metadata": {},
     "output_type": "display_data"
    }
   ],
   "source": [
    "# 创建画布和坐标轴\n",
    "fig, ax = plt.subplots(1, 1, figsize=(5, 3))\n",
    "\n",
    "# 使用 barplot 替代 boxplot，添加误差线为标准误差（sem）\n",
    "sns.barplot(\n",
    "    data=data_long,\n",
    "    x='Condition', y='Fold_Change',\n",
    "    errorbar='se',  # 设置误差线为标准误差\n",
    "    ax=ax,\n",
    "    capsize=0.2,\n",
    "    errwidth=1, width=0.4,\n",
    "    palette=['#7ccacf', '#ec867a']\n",
    ")\n",
    "\n",
    "# 添加显著性标记\n",
    "box_pairs = [(\"non_sizeup\", \"sizeup\")]\n",
    "annot = Annotator(ax, box_pairs, data=data_long, x=\"Condition\", y=\"Fold_Change\")\n",
    "annot.configure(test='t-test_ind', text_format='star', loc='outside')\n",
    "annot.apply_and_annotate()\n",
    "\n",
    "# 设置标签\n",
    "plt.xlabel(\"\")\n",
    "plt.ylabel(\"Fold change\", fontsize=12)\n",
    "\n",
    "# 设置 Y 轴范围和刻度\n",
    "ax.set_ylim(0, 4)\n",
    "ax.set_yticks([i * 0.5 for i in range(9)])  # 即 [0.0, 0.5, ..., 4.0]\n",
    "\n",
    "# 显示图形\n",
    "plt.tight_layout()\n",
    "#plt.savefig('/home/luosongwen/scantecc/2025_03_10_Figure_result/candidate_figure/Figure2b_barplot_without_stripplot.pdf', bbox_inches='tight')\n",
    "plt.show()"
   ]
  },
  {
   "cell_type": "code",
   "execution_count": null,
   "id": "c78c51f3-c2e1-4921-9684-1bf784f70ff1",
   "metadata": {},
   "outputs": [],
   "source": []
  }
 ],
 "metadata": {
  "kernelspec": {
   "display_name": "spacel",
   "language": "python",
   "name": "spacel"
  },
  "language_info": {
   "codemirror_mode": {
    "name": "ipython",
    "version": 3
   },
   "file_extension": ".py",
   "mimetype": "text/x-python",
   "name": "python",
   "nbconvert_exporter": "python",
   "pygments_lexer": "ipython3",
   "version": "3.8.17"
  }
 },
 "nbformat": 4,
 "nbformat_minor": 5
}
