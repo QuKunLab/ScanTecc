{
 "cells": [
  {
   "cell_type": "code",
   "execution_count": null,
   "id": "6f31fa20",
   "metadata": {},
   "outputs": [],
   "source": [
    "import numpy as np\n",
    "import pandas as pd\n",
    "import matplotlib.pyplot as plt\n",
    "import seaborn as sns\n",
    "import os\n",
    "from pyfasta import Fasta\n",
    "\n",
    "import numpy as np\n",
    "import pandas as pd\n",
    "import matplotlib.pyplot as plt\n",
    "import seaborn as sns\n",
    "import os\n",
    "plt.rcParams['font.family'] = ['Arial Unicode MS'] #用来正常显示中文标签\n",
    "plt.rcParams['axes.unicode_minus'] = False #用来正常显示负号\n",
    " \n",
    "sns.set_style('whitegrid',{'font.sans-serif':['Arial Unicode MS','Arial']})\n",
    "from statannot import add_stat_annotation"
   ]
  },
  {
   "cell_type": "code",
   "execution_count": null,
   "id": "0d3582e3",
   "metadata": {},
   "outputs": [],
   "source": [
    "f = Fasta(\"/Users/rorschach/genome_ref/hg19.fa\")\n",
    "\n",
    "all_sample=[x for x in os.listdir(\"./all_ecc_data/raw_data/\") if x[-3:]==\"txt\"]\n",
    "\n",
    "for file in all_sample:\n",
    "    temp=pd.read_table(\"all_ecc_data/raw_data/\"+file,index_col=0)\n",
    "    temp[\"start_seq\"]=temp.apply(lambda x:f.sequence({'chr': x['chr'], \n",
    "                                                      'start': x['start']-20, 'stop': x['start']+20}),axis=1)\n",
    "    temp[\"end_seq\"]=temp.apply(lambda x:f.sequence({'chr': x['chr'], \n",
    "                                                      'start': x['end']-20, 'stop': x['end']+20}),axis=1)\n",
    "    temp.to_csv(\"all_ecc_data/ecc_data_seq_extend/seq_\"+file,sep=\"\\t\")\n",
    "    "
   ]
  },
  {
   "cell_type": "code",
   "execution_count": 2,
   "id": "dafaa1e6",
   "metadata": {},
   "outputs": [],
   "source": [
    "import difflib\n",
    "\n",
    "def compareseq(a,b):\n",
    "    a=a.upper()\n",
    "    b=b.upper()\n",
    "    br=b[::-1]\n",
    "    alls=difflib.SequenceMatcher(None,a,b).ratio()\n",
    "    alls_r=difflib.SequenceMatcher(None,a,br).ratio()\n",
    "    se=difflib.SequenceMatcher(None,a[21:],b[21:]).ratio()\n",
    "    ser=difflib.SequenceMatcher(None,a[21:],br[:20]).ratio()\n",
    "    es=difflib.SequenceMatcher(None,a[:20],b[:20]).ratio()\n",
    "    esr=difflib.SequenceMatcher(None,a[:20],br[21:]).ratio()\n",
    "    return pd.Series([alls,alls_r,se,ser,es,esr])"
   ]
  },
  {
   "cell_type": "code",
   "execution_count": null,
   "id": "34977f7d",
   "metadata": {},
   "outputs": [],
   "source": [
    "all_sample=[x for x in os.listdir(\"./all_ecc_data/ecc_data_seq_extend/\") if x[-3:]==\"txt\"]\n",
    "\n",
    "for file in all_sample:\n",
    "    temp=pd.read_table(\"all_ecc_data/ecc_data_seq_extend/\"+file,index_col=0)\n",
    "    temp[[\"alls\",\"alls_r\",\"se\",\"ser\",\"es\",\"esr\"]]=temp.apply(lambda x:compareseq(str(x[\"start_seq\"]),\n",
    "                                                                            str(x[\"end_seq\"])),axis=1).values\n",
    "\n",
    "    temp.drop([\"start_seq\",\"end_seq\"],axis=1).to_csv(\"./all_ecc_data/ecc_data_seq_sim/sim_\"+file,sep=\"\\t\")\n",
    "    "
   ]
  }
 ],
 "metadata": {
  "kernelspec": {
   "display_name": "Python 3",
   "language": "python",
   "name": "python3"
  },
  "language_info": {
   "codemirror_mode": {
    "name": "ipython",
    "version": 3
   },
   "file_extension": ".py",
   "mimetype": "text/x-python",
   "name": "python",
   "nbconvert_exporter": "python",
   "pygments_lexer": "ipython3",
   "version": "3.8.8"
  }
 },
 "nbformat": 4,
 "nbformat_minor": 5
}
